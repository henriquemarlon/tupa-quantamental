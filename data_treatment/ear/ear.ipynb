{
 "cells": [
  {
   "cell_type": "code",
   "execution_count": 1,
   "metadata": {},
   "outputs": [],
   "source": [
    "import pandas as pd\n",
    "import os\n",
    "import numpy as np"
   ]
  },
  {
   "cell_type": "code",
   "execution_count": 2,
   "metadata": {},
   "outputs": [],
   "source": [
    "def fn(path):       # 1.Get file names from directory\n",
    "    file_list=os.listdir(path)\n",
    "    file_list.remove(\"readme.txt\")\n",
    "    return file_list"
   ]
  },
  {
   "cell_type": "code",
   "execution_count": 4,
   "metadata": {},
   "outputs": [],
   "source": [
    "df = pd.read_csv(\"../../raw_data/EAR/\"+fn(\"../../raw_data/EAR/\")[0],sep=\";\")"
   ]
  },
  {
   "cell_type": "code",
   "execution_count": 12,
   "metadata": {},
   "outputs": [
    {
     "data": {
      "text/plain": [
       "id_subsistema                                        object\n",
       "ear_data                                     datetime64[ns]\n",
       "ear_reservatorio_subsistema_proprio_mwmes           float64\n",
       "dtype: object"
      ]
     },
     "execution_count": 12,
     "metadata": {},
     "output_type": "execute_result"
    }
   ],
   "source": [
    "df.dtypes"
   ]
  },
  {
   "cell_type": "code",
   "execution_count": 8,
   "metadata": {},
   "outputs": [],
   "source": []
  },
  {
   "cell_type": "code",
   "execution_count": 10,
   "metadata": {},
   "outputs": [
    {
     "name": "stderr",
     "output_type": "stream",
     "text": [
      "C:\\Users\\Usuario\\AppData\\Local\\Temp\\ipykernel_3552\\1205873828.py:1: SettingWithCopyWarning: \n",
      "A value is trying to be set on a copy of a slice from a DataFrame.\n",
      "Try using .loc[row_indexer,col_indexer] = value instead\n",
      "\n",
      "See the caveats in the documentation: https://pandas.pydata.org/pandas-docs/stable/user_guide/indexing.html#returning-a-view-versus-a-copy\n",
      "  df[\"ear_data\"] = pd.to_datetime(df[\"ear_data\"])\n"
     ]
    }
   ],
   "source": []
  },
  {
   "cell_type": "code",
   "execution_count": 16,
   "metadata": {},
   "outputs": [
    {
     "name": "stdout",
     "output_type": "stream",
     "text": [
      "EAR_DIARIO_RESERVATORIOS_2003.csv\n",
      "EAR_DIARIO_RESERVATORIOS_2005.csv\n",
      "EAR_DIARIO_RESERVATORIOS_2006.csv\n",
      "EAR_DIARIO_RESERVATORIOS_2007.csv\n",
      "EAR_DIARIO_RESERVATORIOS_2008.csv\n",
      "EAR_DIARIO_RESERVATORIOS_2009.csv\n",
      "EAR_DIARIO_RESERVATORIOS_2010.csv\n",
      "EAR_DIARIO_RESERVATORIOS_2011.csv\n",
      "EAR_DIARIO_RESERVATORIOS_2012.csv\n",
      "EAR_DIARIO_RESERVATORIOS_2013.csv\n",
      "EAR_DIARIO_RESERVATORIOS_2014.csv\n",
      "EAR_DIARIO_RESERVATORIOS_2015.csv\n",
      "EAR_DIARIO_RESERVATORIOS_2016.csv\n",
      "EAR_DIARIO_RESERVATORIOS_2017.csv\n",
      "EAR_DIARIO_RESERVATORIOS_2018.csv\n",
      "EAR_DIARIO_RESERVATORIOS_2019.csv\n",
      "EAR_DIARIO_RESERVATORIOS_2020.csv\n",
      "EAR_DIARIO_RESERVATORIOS_2021.csv\n",
      "EAR_DIARIO_RESERVATORIOS_2022.csv\n"
     ]
    }
   ],
   "source": [
    "peso = {\n",
    "    \"N\":0.07092,\n",
    "    \"NE\":0.17021,\n",
    "    \"S\":0.17730,\n",
    "    \"SE\":0.58155\n",
    "}\n",
    "ag = pd.DataFrame({})\n",
    "for file in fn(\"../../raw_data/EAR/\"):\n",
    "    print(file)\n",
    "    df = pd.read_csv(\"../../raw_data/EAR/\"+file,sep=\";\")\n",
    "    df = df[[\"id_subsistema\",\"ear_data\",\"ear_reservatorio_subsistema_proprio_mwmes\"]]\n",
    "    df[\"ear_data\"] = pd.to_datetime(df[\"ear_data\"])\n",
    "    df[\"weight\"] = 0\n",
    "\n",
    "    df[\"weight\"] = df[\"id_subsistema\"].apply(lambda x:peso[x])\n",
    "    df[\"ear\"] = df[\"weight\"]*df[\"ear_reservatorio_subsistema_proprio_mwmes\"]\n",
    "    df2 = df[[\"ear\",\"ear_data\"]].groupby(\"ear_data\").sum()\n",
    "    if list(ag.columns):\n",
    "        ag = pd.concat([ag,df2])\n",
    "    else:\n",
    "        ag = df2"
   ]
  },
  {
   "cell_type": "code",
   "execution_count": 18,
   "metadata": {},
   "outputs": [],
   "source": [
    "ag.to_csv(\"../../data/ear/ear.csv\")"
   ]
  }
 ],
 "metadata": {
  "kernelspec": {
   "display_name": "Python 3.10.5 64-bit",
   "language": "python",
   "name": "python3"
  },
  "language_info": {
   "codemirror_mode": {
    "name": "ipython",
    "version": 3
   },
   "file_extension": ".py",
   "mimetype": "text/x-python",
   "name": "python",
   "nbconvert_exporter": "python",
   "pygments_lexer": "ipython3",
   "version": "3.10.5"
  },
  "orig_nbformat": 4,
  "vscode": {
   "interpreter": {
    "hash": "c63d8c7d738c2960218a10995aedf0a7f67a49a231e71037adf0440953cdb45b"
   }
  }
 },
 "nbformat": 4,
 "nbformat_minor": 2
}
