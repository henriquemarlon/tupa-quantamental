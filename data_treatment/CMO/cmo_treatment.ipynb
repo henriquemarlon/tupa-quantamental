{
 "cells": [
  {
   "cell_type": "code",
   "execution_count": 17,
   "metadata": {},
   "outputs": [],
   "source": [
    "import pandas as pd\n",
    "import os\n",
    "import numpy as np"
   ]
  },
  {
   "cell_type": "code",
   "execution_count": 18,
   "metadata": {},
   "outputs": [],
   "source": [
    "def fn(path):       # 1.Get file names from directory\n",
    "    file_list=os.listdir(path)\n",
    "    file_list.remove(\"readme.txt\")\n",
    "    return file_list\n"
   ]
  },
  {
   "cell_type": "code",
   "execution_count": 44,
   "metadata": {},
   "outputs": [
    {
     "name": "stdout",
     "output_type": "stream",
     "text": [
      "CMO_SEMANAL_2005.csv\n",
      "CMO_SEMANAL_2006.csv\n",
      "CMO_SEMANAL_2007.csv\n",
      "CMO_SEMANAL_2008.csv\n",
      "CMO_SEMANAL_2009.csv\n",
      "CMO_SEMANAL_2010.csv\n",
      "CMO_SEMANAL_2011.csv\n",
      "CMO_SEMANAL_2012.csv\n",
      "CMO_SEMANAL_2013.csv\n",
      "CMO_SEMANAL_2014.csv\n",
      "CMO_SEMANAL_2015.csv\n",
      "CMO_SEMANAL_2016.csv\n",
      "CMO_SEMANAL_2017.csv\n",
      "CMO_SEMANAL_2018.csv\n",
      "CMO_SEMANAL_2019.csv\n",
      "CMO_SEMANAL_2020.csv\n",
      "CMO_SEMANAL_2021.csv\n",
      "CMO_SEMANAL_2022.csv\n"
     ]
    }
   ],
   "source": [
    "ag = pd.DataFrame({})\n",
    "for file in fn(\"../../raw_data/CMO\"):\n",
    "    print(file)\n",
    "    df = pd.read_csv(\"../../raw_data/CMO/\"+file,sep=\";\")\n",
    "    if list(ag.columns):\n",
    "        ag = pd.concat([ag,df])\n",
    "    else:\n",
    "        ag = df\n"
   ]
  },
  {
   "cell_type": "code",
   "execution_count": 45,
   "metadata": {},
   "outputs": [
    {
     "data": {
      "text/html": [
       "<div>\n",
       "<style scoped>\n",
       "    .dataframe tbody tr th:only-of-type {\n",
       "        vertical-align: middle;\n",
       "    }\n",
       "\n",
       "    .dataframe tbody tr th {\n",
       "        vertical-align: top;\n",
       "    }\n",
       "\n",
       "    .dataframe thead th {\n",
       "        text-align: right;\n",
       "    }\n",
       "</style>\n",
       "<table border=\"1\" class=\"dataframe\">\n",
       "  <thead>\n",
       "    <tr style=\"text-align: right;\">\n",
       "      <th></th>\n",
       "      <th>id_subsistema</th>\n",
       "      <th>nom_subsistema</th>\n",
       "      <th>din_instante</th>\n",
       "      <th>val_cmomediasemanal</th>\n",
       "      <th>val_cmoleve</th>\n",
       "      <th>val_cmomedia</th>\n",
       "      <th>val_cmopesada</th>\n",
       "    </tr>\n",
       "  </thead>\n",
       "  <tbody>\n",
       "    <tr>\n",
       "      <th>0</th>\n",
       "      <td>N</td>\n",
       "      <td>NORTE</td>\n",
       "      <td>2005-01-07</td>\n",
       "      <td>0.94</td>\n",
       "      <td>0.94</td>\n",
       "      <td>0.94</td>\n",
       "      <td>0.94</td>\n",
       "    </tr>\n",
       "    <tr>\n",
       "      <th>1</th>\n",
       "      <td>NE</td>\n",
       "      <td>NORDESTE</td>\n",
       "      <td>2005-01-07</td>\n",
       "      <td>0.94</td>\n",
       "      <td>0.94</td>\n",
       "      <td>0.94</td>\n",
       "      <td>0.94</td>\n",
       "    </tr>\n",
       "    <tr>\n",
       "      <th>2</th>\n",
       "      <td>S</td>\n",
       "      <td>SUL</td>\n",
       "      <td>2005-01-07</td>\n",
       "      <td>4.50</td>\n",
       "      <td>4.39</td>\n",
       "      <td>4.59</td>\n",
       "      <td>4.59</td>\n",
       "    </tr>\n",
       "    <tr>\n",
       "      <th>3</th>\n",
       "      <td>SE</td>\n",
       "      <td>SUDESTE</td>\n",
       "      <td>2005-01-07</td>\n",
       "      <td>0.00</td>\n",
       "      <td>0.00</td>\n",
       "      <td>0.00</td>\n",
       "      <td>0.00</td>\n",
       "    </tr>\n",
       "    <tr>\n",
       "      <th>4</th>\n",
       "      <td>N</td>\n",
       "      <td>NORTE</td>\n",
       "      <td>2005-01-14</td>\n",
       "      <td>6.34</td>\n",
       "      <td>5.87</td>\n",
       "      <td>6.41</td>\n",
       "      <td>7.64</td>\n",
       "    </tr>\n",
       "    <tr>\n",
       "      <th>...</th>\n",
       "      <td>...</td>\n",
       "      <td>...</td>\n",
       "      <td>...</td>\n",
       "      <td>...</td>\n",
       "      <td>...</td>\n",
       "      <td>...</td>\n",
       "      <td>...</td>\n",
       "    </tr>\n",
       "    <tr>\n",
       "      <th>143</th>\n",
       "      <td>SE</td>\n",
       "      <td>SUDESTE</td>\n",
       "      <td>2022-09-09</td>\n",
       "      <td>36.98</td>\n",
       "      <td>36.30</td>\n",
       "      <td>37.65</td>\n",
       "      <td>37.93</td>\n",
       "    </tr>\n",
       "    <tr>\n",
       "      <th>144</th>\n",
       "      <td>N</td>\n",
       "      <td>NORTE</td>\n",
       "      <td>2022-09-16</td>\n",
       "      <td>44.28</td>\n",
       "      <td>42.97</td>\n",
       "      <td>45.22</td>\n",
       "      <td>45.66</td>\n",
       "    </tr>\n",
       "    <tr>\n",
       "      <th>145</th>\n",
       "      <td>NE</td>\n",
       "      <td>NORDESTE</td>\n",
       "      <td>2022-09-16</td>\n",
       "      <td>44.28</td>\n",
       "      <td>42.97</td>\n",
       "      <td>45.22</td>\n",
       "      <td>45.66</td>\n",
       "    </tr>\n",
       "    <tr>\n",
       "      <th>146</th>\n",
       "      <td>S</td>\n",
       "      <td>SUL</td>\n",
       "      <td>2022-09-16</td>\n",
       "      <td>44.28</td>\n",
       "      <td>42.97</td>\n",
       "      <td>45.22</td>\n",
       "      <td>45.66</td>\n",
       "    </tr>\n",
       "    <tr>\n",
       "      <th>147</th>\n",
       "      <td>SE</td>\n",
       "      <td>SUDESTE</td>\n",
       "      <td>2022-09-16</td>\n",
       "      <td>44.28</td>\n",
       "      <td>42.97</td>\n",
       "      <td>45.22</td>\n",
       "      <td>45.66</td>\n",
       "    </tr>\n",
       "  </tbody>\n",
       "</table>\n",
       "<p>3696 rows × 7 columns</p>\n",
       "</div>"
      ],
      "text/plain": [
       "    id_subsistema nom_subsistema din_instante  val_cmomediasemanal  \\\n",
       "0               N          NORTE   2005-01-07                 0.94   \n",
       "1              NE       NORDESTE   2005-01-07                 0.94   \n",
       "2               S            SUL   2005-01-07                 4.50   \n",
       "3              SE        SUDESTE   2005-01-07                 0.00   \n",
       "4               N          NORTE   2005-01-14                 6.34   \n",
       "..            ...            ...          ...                  ...   \n",
       "143            SE        SUDESTE   2022-09-09                36.98   \n",
       "144             N          NORTE   2022-09-16                44.28   \n",
       "145            NE       NORDESTE   2022-09-16                44.28   \n",
       "146             S            SUL   2022-09-16                44.28   \n",
       "147            SE        SUDESTE   2022-09-16                44.28   \n",
       "\n",
       "     val_cmoleve  val_cmomedia  val_cmopesada  \n",
       "0           0.94          0.94           0.94  \n",
       "1           0.94          0.94           0.94  \n",
       "2           4.39          4.59           4.59  \n",
       "3           0.00          0.00           0.00  \n",
       "4           5.87          6.41           7.64  \n",
       "..           ...           ...            ...  \n",
       "143        36.30         37.65          37.93  \n",
       "144        42.97         45.22          45.66  \n",
       "145        42.97         45.22          45.66  \n",
       "146        42.97         45.22          45.66  \n",
       "147        42.97         45.22          45.66  \n",
       "\n",
       "[3696 rows x 7 columns]"
      ]
     },
     "execution_count": 45,
     "metadata": {},
     "output_type": "execute_result"
    }
   ],
   "source": [
    "ag"
   ]
  },
  {
   "cell_type": "code",
   "execution_count": 46,
   "metadata": {},
   "outputs": [],
   "source": [
    "ag = ag[[\"id_subsistema\",\"din_instante\",\"val_cmomediasemanal\"]]"
   ]
  },
  {
   "cell_type": "code",
   "execution_count": 47,
   "metadata": {},
   "outputs": [
    {
     "name": "stderr",
     "output_type": "stream",
     "text": [
      "C:\\Users\\Usuario\\AppData\\Local\\Temp\\ipykernel_404\\2199142449.py:1: SettingWithCopyWarning: \n",
      "A value is trying to be set on a copy of a slice from a DataFrame.\n",
      "Try using .loc[row_indexer,col_indexer] = value instead\n",
      "\n",
      "See the caveats in the documentation: https://pandas.pydata.org/pandas-docs/stable/user_guide/indexing.html#returning-a-view-versus-a-copy\n",
      "  ag[\"weight\"] = 0\n"
     ]
    }
   ],
   "source": [
    "ag[\"weight\"] = 0"
   ]
  },
  {
   "cell_type": "code",
   "execution_count": 48,
   "metadata": {},
   "outputs": [
    {
     "name": "stderr",
     "output_type": "stream",
     "text": [
      "C:\\Users\\Usuario\\AppData\\Local\\Temp\\ipykernel_404\\2641151948.py:7: SettingWithCopyWarning: \n",
      "A value is trying to be set on a copy of a slice from a DataFrame.\n",
      "Try using .loc[row_indexer,col_indexer] = value instead\n",
      "\n",
      "See the caveats in the documentation: https://pandas.pydata.org/pandas-docs/stable/user_guide/indexing.html#returning-a-view-versus-a-copy\n",
      "  ag[\"weight\"] = ag[\"id_subsistema\"].apply(lambda x:peso[x])\n",
      "C:\\Users\\Usuario\\AppData\\Local\\Temp\\ipykernel_404\\2641151948.py:8: SettingWithCopyWarning: \n",
      "A value is trying to be set on a copy of a slice from a DataFrame.\n",
      "Try using .loc[row_indexer,col_indexer] = value instead\n",
      "\n",
      "See the caveats in the documentation: https://pandas.pydata.org/pandas-docs/stable/user_guide/indexing.html#returning-a-view-versus-a-copy\n",
      "  ag[\"cmo\"] = ag[\"weight\"]*ag[\"val_cmomediasemanal\"]\n"
     ]
    }
   ],
   "source": [
    "peso = {\n",
    "    \"N\":0.07092,\n",
    "    \"NE\":0.17021,\n",
    "    \"S\":0.17730,\n",
    "    \"SE\":0.58155\n",
    "}\n",
    "ag[\"weight\"] = ag[\"id_subsistema\"].apply(lambda x:peso[x])\n",
    "ag[\"cmo\"] = ag[\"weight\"]*ag[\"val_cmomediasemanal\"]"
   ]
  },
  {
   "cell_type": "code",
   "execution_count": 49,
   "metadata": {},
   "outputs": [],
   "source": [
    "df2 = ag[[\"din_instante\",\"cmo\"]].groupby(\"din_instante\").sum()"
   ]
  },
  {
   "cell_type": "code",
   "execution_count": 50,
   "metadata": {},
   "outputs": [
    {
     "data": {
      "text/html": [
       "<div>\n",
       "<style scoped>\n",
       "    .dataframe tbody tr th:only-of-type {\n",
       "        vertical-align: middle;\n",
       "    }\n",
       "\n",
       "    .dataframe tbody tr th {\n",
       "        vertical-align: top;\n",
       "    }\n",
       "\n",
       "    .dataframe thead th {\n",
       "        text-align: right;\n",
       "    }\n",
       "</style>\n",
       "<table border=\"1\" class=\"dataframe\">\n",
       "  <thead>\n",
       "    <tr style=\"text-align: right;\">\n",
       "      <th></th>\n",
       "      <th>cmo</th>\n",
       "    </tr>\n",
       "    <tr>\n",
       "      <th>din_instante</th>\n",
       "      <th></th>\n",
       "    </tr>\n",
       "  </thead>\n",
       "  <tbody>\n",
       "    <tr>\n",
       "      <th>2005-01-07</th>\n",
       "      <td>1.024512</td>\n",
       "    </tr>\n",
       "    <tr>\n",
       "      <th>2005-01-14</th>\n",
       "      <td>7.621400</td>\n",
       "    </tr>\n",
       "    <tr>\n",
       "      <th>2005-01-21</th>\n",
       "      <td>1.773359</td>\n",
       "    </tr>\n",
       "    <tr>\n",
       "      <th>2005-01-28</th>\n",
       "      <td>1.505705</td>\n",
       "    </tr>\n",
       "    <tr>\n",
       "      <th>2005-02-04</th>\n",
       "      <td>0.540765</td>\n",
       "    </tr>\n",
       "    <tr>\n",
       "      <th>...</th>\n",
       "      <td>...</td>\n",
       "    </tr>\n",
       "    <tr>\n",
       "      <th>2022-08-19</th>\n",
       "      <td>70.648587</td>\n",
       "    </tr>\n",
       "    <tr>\n",
       "      <th>2022-08-26</th>\n",
       "      <td>51.648967</td>\n",
       "    </tr>\n",
       "    <tr>\n",
       "      <th>2022-09-02</th>\n",
       "      <td>50.188996</td>\n",
       "    </tr>\n",
       "    <tr>\n",
       "      <th>2022-09-09</th>\n",
       "      <td>36.979260</td>\n",
       "    </tr>\n",
       "    <tr>\n",
       "      <th>2022-09-16</th>\n",
       "      <td>44.279114</td>\n",
       "    </tr>\n",
       "  </tbody>\n",
       "</table>\n",
       "<p>924 rows × 1 columns</p>\n",
       "</div>"
      ],
      "text/plain": [
       "                    cmo\n",
       "din_instante           \n",
       "2005-01-07     1.024512\n",
       "2005-01-14     7.621400\n",
       "2005-01-21     1.773359\n",
       "2005-01-28     1.505705\n",
       "2005-02-04     0.540765\n",
       "...                 ...\n",
       "2022-08-19    70.648587\n",
       "2022-08-26    51.648967\n",
       "2022-09-02    50.188996\n",
       "2022-09-09    36.979260\n",
       "2022-09-16    44.279114\n",
       "\n",
       "[924 rows x 1 columns]"
      ]
     },
     "execution_count": 50,
     "metadata": {},
     "output_type": "execute_result"
    }
   ],
   "source": [
    "df2"
   ]
  },
  {
   "cell_type": "code",
   "execution_count": 43,
   "metadata": {},
   "outputs": [],
   "source": [
    "df2.to_csv(\"../../data/CMO/cmo.csv\")"
   ]
  }
 ],
 "metadata": {
  "kernelspec": {
   "display_name": "Python 3.10.5 64-bit",
   "language": "python",
   "name": "python3"
  },
  "language_info": {
   "codemirror_mode": {
    "name": "ipython",
    "version": 3
   },
   "file_extension": ".py",
   "mimetype": "text/x-python",
   "name": "python",
   "nbconvert_exporter": "python",
   "pygments_lexer": "ipython3",
   "version": "3.10.5"
  },
  "orig_nbformat": 4,
  "vscode": {
   "interpreter": {
    "hash": "c63d8c7d738c2960218a10995aedf0a7f67a49a231e71037adf0440953cdb45b"
   }
  }
 },
 "nbformat": 4,
 "nbformat_minor": 2
}
