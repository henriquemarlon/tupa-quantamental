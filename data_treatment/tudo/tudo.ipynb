{
 "cells": [
  {
   "cell_type": "code",
   "execution_count": 1,
   "metadata": {},
   "outputs": [],
   "source": [
    "import pandas as pd\n",
    "import os\n",
    "import numpy as np"
   ]
  },
  {
   "cell_type": "code",
   "execution_count": 2,
   "metadata": {},
   "outputs": [],
   "source": [
    "def fn(path):       # 1.Get file names from directory\n",
    "    file_list=os.listdir(path)\n",
    "    return file_list"
   ]
  },
  {
   "cell_type": "code",
   "execution_count": 3,
   "metadata": {},
   "outputs": [
    {
     "name": "stdout",
     "output_type": "stream",
     "text": [
      "bee.csv\n",
      "cmo.csv\n",
      "ear.csv\n",
      "ena.csv\n"
     ]
    }
   ],
   "source": [
    "ag = pd.DataFrame({})\n",
    "for file in fn(\"../../raw_data/tudo/\"):\n",
    "    print(file)\n",
    "    df = pd.read_csv(\"../../raw_data/tudo/\"+file)\n",
    "    if list(ag.columns):\n",
    "        ag = pd.concat([ag,df],axis=1)\n",
    "    else:\n",
    "        ag = df"
   ]
  },
  {
   "cell_type": "code",
   "execution_count": 4,
   "metadata": {},
   "outputs": [],
   "source": [
    "ag = pd.read_csv(\"../../raw_data/tudo/\"+\"bee.csv\")"
   ]
  },
  {
   "cell_type": "code",
   "execution_count": 5,
   "metadata": {},
   "outputs": [],
   "source": [
    "ag = ag.drop(\"Unnamed: 0\",axis=1)"
   ]
  },
  {
   "cell_type": "code",
   "execution_count": 6,
   "metadata": {},
   "outputs": [
    {
     "data": {
      "text/html": [
       "<div>\n",
       "<style scoped>\n",
       "    .dataframe tbody tr th:only-of-type {\n",
       "        vertical-align: middle;\n",
       "    }\n",
       "\n",
       "    .dataframe tbody tr th {\n",
       "        vertical-align: top;\n",
       "    }\n",
       "\n",
       "    .dataframe thead th {\n",
       "        text-align: right;\n",
       "    }\n",
       "</style>\n",
       "<table border=\"1\" class=\"dataframe\">\n",
       "  <thead>\n",
       "    <tr style=\"text-align: right;\">\n",
       "      <th></th>\n",
       "      <th>Date</th>\n",
       "      <th>Price</th>\n",
       "      <th>change</th>\n",
       "    </tr>\n",
       "  </thead>\n",
       "  <tbody>\n",
       "    <tr>\n",
       "      <th>0</th>\n",
       "      <td>2022-09-09</td>\n",
       "      <td>82203.99</td>\n",
       "      <td>-0.10</td>\n",
       "    </tr>\n",
       "    <tr>\n",
       "      <th>1</th>\n",
       "      <td>2022-09-08</td>\n",
       "      <td>82291.74</td>\n",
       "      <td>0.09</td>\n",
       "    </tr>\n",
       "    <tr>\n",
       "      <th>2</th>\n",
       "      <td>2022-09-06</td>\n",
       "      <td>82216.49</td>\n",
       "      <td>-1.30</td>\n",
       "    </tr>\n",
       "    <tr>\n",
       "      <th>3</th>\n",
       "      <td>2022-09-05</td>\n",
       "      <td>83314.13</td>\n",
       "      <td>0.40</td>\n",
       "    </tr>\n",
       "    <tr>\n",
       "      <th>4</th>\n",
       "      <td>2022-09-02</td>\n",
       "      <td>82985.23</td>\n",
       "      <td>-0.30</td>\n",
       "    </tr>\n",
       "    <tr>\n",
       "      <th>...</th>\n",
       "      <td>...</td>\n",
       "      <td>...</td>\n",
       "      <td>...</td>\n",
       "    </tr>\n",
       "    <tr>\n",
       "      <th>4373</th>\n",
       "      <td>2005-01-07</td>\n",
       "      <td>6623.89</td>\n",
       "      <td>1.73</td>\n",
       "    </tr>\n",
       "    <tr>\n",
       "      <th>4374</th>\n",
       "      <td>2005-01-06</td>\n",
       "      <td>6511.44</td>\n",
       "      <td>-0.80</td>\n",
       "    </tr>\n",
       "    <tr>\n",
       "      <th>4375</th>\n",
       "      <td>2005-01-05</td>\n",
       "      <td>6569.65</td>\n",
       "      <td>-0.30</td>\n",
       "    </tr>\n",
       "    <tr>\n",
       "      <th>4376</th>\n",
       "      <td>2005-01-04</td>\n",
       "      <td>6594.56</td>\n",
       "      <td>-3.70</td>\n",
       "    </tr>\n",
       "    <tr>\n",
       "      <th>4377</th>\n",
       "      <td>2005-01-03</td>\n",
       "      <td>6848.30</td>\n",
       "      <td>-1.40</td>\n",
       "    </tr>\n",
       "  </tbody>\n",
       "</table>\n",
       "<p>4378 rows × 3 columns</p>\n",
       "</div>"
      ],
      "text/plain": [
       "            Date     Price  change\n",
       "0     2022-09-09  82203.99   -0.10\n",
       "1     2022-09-08  82291.74    0.09\n",
       "2     2022-09-06  82216.49   -1.30\n",
       "3     2022-09-05  83314.13    0.40\n",
       "4     2022-09-02  82985.23   -0.30\n",
       "...          ...       ...     ...\n",
       "4373  2005-01-07   6623.89    1.73\n",
       "4374  2005-01-06   6511.44   -0.80\n",
       "4375  2005-01-05   6569.65   -0.30\n",
       "4376  2005-01-04   6594.56   -3.70\n",
       "4377  2005-01-03   6848.30   -1.40\n",
       "\n",
       "[4378 rows x 3 columns]"
      ]
     },
     "execution_count": 6,
     "metadata": {},
     "output_type": "execute_result"
    }
   ],
   "source": [
    "ag"
   ]
  },
  {
   "cell_type": "code",
   "execution_count": 7,
   "metadata": {},
   "outputs": [],
   "source": [
    "df2= pd.read_csv(\"../../raw_data/tudo/\"+\"cmo.csv\")"
   ]
  },
  {
   "cell_type": "code",
   "execution_count": 8,
   "metadata": {},
   "outputs": [
    {
     "data": {
      "text/html": [
       "<div>\n",
       "<style scoped>\n",
       "    .dataframe tbody tr th:only-of-type {\n",
       "        vertical-align: middle;\n",
       "    }\n",
       "\n",
       "    .dataframe tbody tr th {\n",
       "        vertical-align: top;\n",
       "    }\n",
       "\n",
       "    .dataframe thead th {\n",
       "        text-align: right;\n",
       "    }\n",
       "</style>\n",
       "<table border=\"1\" class=\"dataframe\">\n",
       "  <thead>\n",
       "    <tr style=\"text-align: right;\">\n",
       "      <th></th>\n",
       "      <th>din_instante</th>\n",
       "      <th>cmo</th>\n",
       "    </tr>\n",
       "  </thead>\n",
       "  <tbody>\n",
       "    <tr>\n",
       "      <th>0</th>\n",
       "      <td>2005-01-07</td>\n",
       "      <td>1.024512</td>\n",
       "    </tr>\n",
       "    <tr>\n",
       "      <th>1</th>\n",
       "      <td>2005-01-14</td>\n",
       "      <td>7.621400</td>\n",
       "    </tr>\n",
       "    <tr>\n",
       "      <th>2</th>\n",
       "      <td>2005-01-21</td>\n",
       "      <td>1.773359</td>\n",
       "    </tr>\n",
       "    <tr>\n",
       "      <th>3</th>\n",
       "      <td>2005-01-28</td>\n",
       "      <td>1.505705</td>\n",
       "    </tr>\n",
       "    <tr>\n",
       "      <th>4</th>\n",
       "      <td>2005-02-04</td>\n",
       "      <td>0.540765</td>\n",
       "    </tr>\n",
       "    <tr>\n",
       "      <th>...</th>\n",
       "      <td>...</td>\n",
       "      <td>...</td>\n",
       "    </tr>\n",
       "    <tr>\n",
       "      <th>919</th>\n",
       "      <td>2022-08-19</td>\n",
       "      <td>70.648587</td>\n",
       "    </tr>\n",
       "    <tr>\n",
       "      <th>920</th>\n",
       "      <td>2022-08-26</td>\n",
       "      <td>51.648967</td>\n",
       "    </tr>\n",
       "    <tr>\n",
       "      <th>921</th>\n",
       "      <td>2022-09-02</td>\n",
       "      <td>50.188996</td>\n",
       "    </tr>\n",
       "    <tr>\n",
       "      <th>922</th>\n",
       "      <td>2022-09-09</td>\n",
       "      <td>36.979260</td>\n",
       "    </tr>\n",
       "    <tr>\n",
       "      <th>923</th>\n",
       "      <td>2022-09-16</td>\n",
       "      <td>44.279114</td>\n",
       "    </tr>\n",
       "  </tbody>\n",
       "</table>\n",
       "<p>924 rows × 2 columns</p>\n",
       "</div>"
      ],
      "text/plain": [
       "    din_instante        cmo\n",
       "0     2005-01-07   1.024512\n",
       "1     2005-01-14   7.621400\n",
       "2     2005-01-21   1.773359\n",
       "3     2005-01-28   1.505705\n",
       "4     2005-02-04   0.540765\n",
       "..           ...        ...\n",
       "919   2022-08-19  70.648587\n",
       "920   2022-08-26  51.648967\n",
       "921   2022-09-02  50.188996\n",
       "922   2022-09-09  36.979260\n",
       "923   2022-09-16  44.279114\n",
       "\n",
       "[924 rows x 2 columns]"
      ]
     },
     "execution_count": 8,
     "metadata": {},
     "output_type": "execute_result"
    }
   ],
   "source": [
    "df2"
   ]
  },
  {
   "cell_type": "code",
   "execution_count": 9,
   "metadata": {},
   "outputs": [],
   "source": [
    "ag = ag.merge(df2, left_on='Date', right_on='din_instante')\n"
   ]
  },
  {
   "cell_type": "code",
   "execution_count": 10,
   "metadata": {},
   "outputs": [],
   "source": [
    "ag = ag.drop(\"din_instante\",axis=1)"
   ]
  },
  {
   "cell_type": "code",
   "execution_count": 11,
   "metadata": {},
   "outputs": [
    {
     "data": {
      "text/html": [
       "<div>\n",
       "<style scoped>\n",
       "    .dataframe tbody tr th:only-of-type {\n",
       "        vertical-align: middle;\n",
       "    }\n",
       "\n",
       "    .dataframe tbody tr th {\n",
       "        vertical-align: top;\n",
       "    }\n",
       "\n",
       "    .dataframe thead th {\n",
       "        text-align: right;\n",
       "    }\n",
       "</style>\n",
       "<table border=\"1\" class=\"dataframe\">\n",
       "  <thead>\n",
       "    <tr style=\"text-align: right;\">\n",
       "      <th></th>\n",
       "      <th>Date</th>\n",
       "      <th>Price</th>\n",
       "      <th>change</th>\n",
       "      <th>cmo</th>\n",
       "    </tr>\n",
       "  </thead>\n",
       "  <tbody>\n",
       "    <tr>\n",
       "      <th>0</th>\n",
       "      <td>2022-09-09</td>\n",
       "      <td>82203.99</td>\n",
       "      <td>-0.10</td>\n",
       "      <td>36.979260</td>\n",
       "    </tr>\n",
       "    <tr>\n",
       "      <th>1</th>\n",
       "      <td>2022-09-02</td>\n",
       "      <td>82985.23</td>\n",
       "      <td>-0.30</td>\n",
       "      <td>50.188996</td>\n",
       "    </tr>\n",
       "    <tr>\n",
       "      <th>2</th>\n",
       "      <td>2022-08-26</td>\n",
       "      <td>82117.59</td>\n",
       "      <td>-1.00</td>\n",
       "      <td>51.648967</td>\n",
       "    </tr>\n",
       "    <tr>\n",
       "      <th>3</th>\n",
       "      <td>2022-08-19</td>\n",
       "      <td>84655.69</td>\n",
       "      <td>-0.80</td>\n",
       "      <td>70.648587</td>\n",
       "    </tr>\n",
       "    <tr>\n",
       "      <th>4</th>\n",
       "      <td>2022-08-12</td>\n",
       "      <td>84029.98</td>\n",
       "      <td>1.61</td>\n",
       "      <td>91.118178</td>\n",
       "    </tr>\n",
       "    <tr>\n",
       "      <th>...</th>\n",
       "      <td>...</td>\n",
       "      <td>...</td>\n",
       "      <td>...</td>\n",
       "      <td>...</td>\n",
       "    </tr>\n",
       "    <tr>\n",
       "      <th>862</th>\n",
       "      <td>2005-02-04</td>\n",
       "      <td>7151.01</td>\n",
       "      <td>4.76</td>\n",
       "      <td>0.540765</td>\n",
       "    </tr>\n",
       "    <tr>\n",
       "      <th>863</th>\n",
       "      <td>2005-01-28</td>\n",
       "      <td>6408.02</td>\n",
       "      <td>-1.00</td>\n",
       "      <td>1.505705</td>\n",
       "    </tr>\n",
       "    <tr>\n",
       "      <th>864</th>\n",
       "      <td>2005-01-21</td>\n",
       "      <td>6407.45</td>\n",
       "      <td>1.40</td>\n",
       "      <td>1.773359</td>\n",
       "    </tr>\n",
       "    <tr>\n",
       "      <th>865</th>\n",
       "      <td>2005-01-14</td>\n",
       "      <td>6660.59</td>\n",
       "      <td>-0.30</td>\n",
       "      <td>7.621400</td>\n",
       "    </tr>\n",
       "    <tr>\n",
       "      <th>866</th>\n",
       "      <td>2005-01-07</td>\n",
       "      <td>6623.89</td>\n",
       "      <td>1.73</td>\n",
       "      <td>1.024512</td>\n",
       "    </tr>\n",
       "  </tbody>\n",
       "</table>\n",
       "<p>867 rows × 4 columns</p>\n",
       "</div>"
      ],
      "text/plain": [
       "           Date     Price  change        cmo\n",
       "0    2022-09-09  82203.99   -0.10  36.979260\n",
       "1    2022-09-02  82985.23   -0.30  50.188996\n",
       "2    2022-08-26  82117.59   -1.00  51.648967\n",
       "3    2022-08-19  84655.69   -0.80  70.648587\n",
       "4    2022-08-12  84029.98    1.61  91.118178\n",
       "..          ...       ...     ...        ...\n",
       "862  2005-02-04   7151.01    4.76   0.540765\n",
       "863  2005-01-28   6408.02   -1.00   1.505705\n",
       "864  2005-01-21   6407.45    1.40   1.773359\n",
       "865  2005-01-14   6660.59   -0.30   7.621400\n",
       "866  2005-01-07   6623.89    1.73   1.024512\n",
       "\n",
       "[867 rows x 4 columns]"
      ]
     },
     "execution_count": 11,
     "metadata": {},
     "output_type": "execute_result"
    }
   ],
   "source": [
    "ag"
   ]
  },
  {
   "cell_type": "code",
   "execution_count": 12,
   "metadata": {},
   "outputs": [],
   "source": [
    "df2= pd.read_csv(\"../../raw_data/tudo/\"+\"ear.csv\")"
   ]
  },
  {
   "cell_type": "code",
   "execution_count": 13,
   "metadata": {},
   "outputs": [],
   "source": [
    "ag = ag.merge(df2, left_on='Date', right_on='ear_data')"
   ]
  },
  {
   "cell_type": "code",
   "execution_count": 14,
   "metadata": {},
   "outputs": [],
   "source": [
    "ag = ag.drop(\"ear_data\",axis=1)"
   ]
  },
  {
   "cell_type": "code",
   "execution_count": 15,
   "metadata": {},
   "outputs": [],
   "source": [
    "df2= pd.read_csv(\"../../raw_data/tudo/\"+\"ena.csv\")"
   ]
  },
  {
   "cell_type": "code",
   "execution_count": 16,
   "metadata": {},
   "outputs": [],
   "source": [
    "ag = ag.merge(df2, left_on='Date', right_on='ena_data')"
   ]
  },
  {
   "cell_type": "code",
   "execution_count": 17,
   "metadata": {},
   "outputs": [],
   "source": [
    "ag = ag.drop(\"ena_data\",axis=1)"
   ]
  },
  {
   "cell_type": "code",
   "execution_count": 18,
   "metadata": {},
   "outputs": [
    {
     "data": {
      "text/html": [
       "<div>\n",
       "<style scoped>\n",
       "    .dataframe tbody tr th:only-of-type {\n",
       "        vertical-align: middle;\n",
       "    }\n",
       "\n",
       "    .dataframe tbody tr th {\n",
       "        vertical-align: top;\n",
       "    }\n",
       "\n",
       "    .dataframe thead th {\n",
       "        text-align: right;\n",
       "    }\n",
       "</style>\n",
       "<table border=\"1\" class=\"dataframe\">\n",
       "  <thead>\n",
       "    <tr style=\"text-align: right;\">\n",
       "      <th></th>\n",
       "      <th>Date</th>\n",
       "      <th>Price</th>\n",
       "      <th>change</th>\n",
       "      <th>cmo</th>\n",
       "      <th>ear</th>\n",
       "      <th>ena</th>\n",
       "    </tr>\n",
       "  </thead>\n",
       "  <tbody>\n",
       "    <tr>\n",
       "      <th>0</th>\n",
       "      <td>2022-09-09</td>\n",
       "      <td>82203.99</td>\n",
       "      <td>-0.10</td>\n",
       "      <td>36.979260</td>\n",
       "      <td>71955.164139</td>\n",
       "      <td>9453.021976</td>\n",
       "    </tr>\n",
       "    <tr>\n",
       "      <th>1</th>\n",
       "      <td>2022-09-02</td>\n",
       "      <td>82985.23</td>\n",
       "      <td>-0.30</td>\n",
       "      <td>50.188996</td>\n",
       "      <td>73752.576613</td>\n",
       "      <td>9475.869196</td>\n",
       "    </tr>\n",
       "    <tr>\n",
       "      <th>2</th>\n",
       "      <td>2022-08-26</td>\n",
       "      <td>82117.59</td>\n",
       "      <td>-1.00</td>\n",
       "      <td>51.648967</td>\n",
       "      <td>75385.035439</td>\n",
       "      <td>11857.232780</td>\n",
       "    </tr>\n",
       "    <tr>\n",
       "      <th>3</th>\n",
       "      <td>2022-08-19</td>\n",
       "      <td>84655.69</td>\n",
       "      <td>-0.80</td>\n",
       "      <td>70.648587</td>\n",
       "      <td>76639.664832</td>\n",
       "      <td>14461.811972</td>\n",
       "    </tr>\n",
       "    <tr>\n",
       "      <th>4</th>\n",
       "      <td>2022-08-12</td>\n",
       "      <td>84029.98</td>\n",
       "      <td>1.61</td>\n",
       "      <td>91.118178</td>\n",
       "      <td>77767.381265</td>\n",
       "      <td>12490.554733</td>\n",
       "    </tr>\n",
       "    <tr>\n",
       "      <th>...</th>\n",
       "      <td>...</td>\n",
       "      <td>...</td>\n",
       "      <td>...</td>\n",
       "      <td>...</td>\n",
       "      <td>...</td>\n",
       "      <td>...</td>\n",
       "    </tr>\n",
       "    <tr>\n",
       "      <th>862</th>\n",
       "      <td>2005-02-04</td>\n",
       "      <td>7151.01</td>\n",
       "      <td>4.76</td>\n",
       "      <td>0.540765</td>\n",
       "      <td>85413.644060</td>\n",
       "      <td>31455.526910</td>\n",
       "    </tr>\n",
       "    <tr>\n",
       "      <th>863</th>\n",
       "      <td>2005-01-28</td>\n",
       "      <td>6408.02</td>\n",
       "      <td>-1.00</td>\n",
       "      <td>1.505705</td>\n",
       "      <td>82862.298830</td>\n",
       "      <td>31140.877380</td>\n",
       "    </tr>\n",
       "    <tr>\n",
       "      <th>864</th>\n",
       "      <td>2005-01-21</td>\n",
       "      <td>6407.45</td>\n",
       "      <td>1.40</td>\n",
       "      <td>1.773359</td>\n",
       "      <td>80474.873130</td>\n",
       "      <td>37984.065060</td>\n",
       "    </tr>\n",
       "    <tr>\n",
       "      <th>865</th>\n",
       "      <td>2005-01-14</td>\n",
       "      <td>6660.59</td>\n",
       "      <td>-0.30</td>\n",
       "      <td>7.621400</td>\n",
       "      <td>76597.962680</td>\n",
       "      <td>29017.435700</td>\n",
       "    </tr>\n",
       "    <tr>\n",
       "      <th>866</th>\n",
       "      <td>2005-01-07</td>\n",
       "      <td>6623.89</td>\n",
       "      <td>1.73</td>\n",
       "      <td>1.024512</td>\n",
       "      <td>73891.868390</td>\n",
       "      <td>29144.705850</td>\n",
       "    </tr>\n",
       "  </tbody>\n",
       "</table>\n",
       "<p>867 rows × 6 columns</p>\n",
       "</div>"
      ],
      "text/plain": [
       "           Date     Price  change        cmo           ear           ena\n",
       "0    2022-09-09  82203.99   -0.10  36.979260  71955.164139   9453.021976\n",
       "1    2022-09-02  82985.23   -0.30  50.188996  73752.576613   9475.869196\n",
       "2    2022-08-26  82117.59   -1.00  51.648967  75385.035439  11857.232780\n",
       "3    2022-08-19  84655.69   -0.80  70.648587  76639.664832  14461.811972\n",
       "4    2022-08-12  84029.98    1.61  91.118178  77767.381265  12490.554733\n",
       "..          ...       ...     ...        ...           ...           ...\n",
       "862  2005-02-04   7151.01    4.76   0.540765  85413.644060  31455.526910\n",
       "863  2005-01-28   6408.02   -1.00   1.505705  82862.298830  31140.877380\n",
       "864  2005-01-21   6407.45    1.40   1.773359  80474.873130  37984.065060\n",
       "865  2005-01-14   6660.59   -0.30   7.621400  76597.962680  29017.435700\n",
       "866  2005-01-07   6623.89    1.73   1.024512  73891.868390  29144.705850\n",
       "\n",
       "[867 rows x 6 columns]"
      ]
     },
     "execution_count": 18,
     "metadata": {},
     "output_type": "execute_result"
    }
   ],
   "source": [
    "ag"
   ]
  },
  {
   "cell_type": "code",
   "execution_count": 19,
   "metadata": {},
   "outputs": [],
   "source": [
    "salvo = ag.copy()"
   ]
  },
  {
   "cell_type": "code",
   "execution_count": 20,
   "metadata": {},
   "outputs": [],
   "source": [
    "ag.to_csv(\"../../data/final/final.csv\")"
   ]
  },
  {
   "cell_type": "code",
   "execution_count": 21,
   "metadata": {},
   "outputs": [],
   "source": [
    "df2= pd.read_csv(\"../../raw_data/quant/\"+\"train.csv\")"
   ]
  },
  {
   "cell_type": "code",
   "execution_count": 22,
   "metadata": {},
   "outputs": [],
   "source": [
    "df2[\"DT_COMPTC\"] = pd.to_datetime(df2[\"DT_COMPTC\"])"
   ]
  },
  {
   "cell_type": "code",
   "execution_count": 23,
   "metadata": {},
   "outputs": [],
   "source": [
    "ag[\"Date\"] = pd.to_datetime(ag[\"Date\"])"
   ]
  },
  {
   "cell_type": "code",
   "execution_count": 24,
   "metadata": {},
   "outputs": [
    {
     "data": {
      "text/plain": [
       "Date      datetime64[ns]\n",
       "Price            float64\n",
       "change           float64\n",
       "cmo              float64\n",
       "ear              float64\n",
       "ena              float64\n",
       "dtype: object"
      ]
     },
     "execution_count": 24,
     "metadata": {},
     "output_type": "execute_result"
    }
   ],
   "source": [
    "ag.dtypes"
   ]
  },
  {
   "cell_type": "code",
   "execution_count": 25,
   "metadata": {},
   "outputs": [],
   "source": [
    "ag = ag.merge(df2, left_on='Date', right_on='DT_COMPTC')"
   ]
  },
  {
   "cell_type": "code",
   "execution_count": 26,
   "metadata": {},
   "outputs": [],
   "source": [
    "ag.to_csv(\"../../data/final/final2.csv\")"
   ]
  }
 ],
 "metadata": {
  "kernelspec": {
   "display_name": "Python 3.10.7 64-bit",
   "language": "python",
   "name": "python3"
  },
  "language_info": {
   "codemirror_mode": {
    "name": "ipython",
    "version": 3
   },
   "file_extension": ".py",
   "mimetype": "text/x-python",
   "name": "python",
   "nbconvert_exporter": "python",
   "pygments_lexer": "ipython3",
   "version": "3.10.7"
  },
  "orig_nbformat": 4,
  "vscode": {
   "interpreter": {
    "hash": "e7370f93d1d0cde622a1f8e1c04877d8463912d04d973331ad4851f04de6915a"
   }
  }
 },
 "nbformat": 4,
 "nbformat_minor": 2
}
